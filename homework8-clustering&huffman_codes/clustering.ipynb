{
 "cells": [
  {
   "cell_type": "code",
   "execution_count": 1,
   "metadata": {
    "collapsed": true
   },
   "outputs": [],
   "source": [
    "from math import inf"
   ]
  },
  {
   "cell_type": "code",
   "execution_count": 2,
   "metadata": {
    "collapsed": true
   },
   "outputs": [],
   "source": [
    "def read_graph(filepath='clustering1.txt'):\n",
    "    with open(filepath,'r') as f:\n",
    "        edges = []\n",
    "        n = int(f.readline()[:-1])\n",
    "        line = f.readline()\n",
    "        \n",
    "        while line:\n",
    "            u,v,c = [int(i) for i in line[:-1].split()]\n",
    "            edges.append([u-1,v-1,c])\n",
    "            line = f.readline()\n",
    "    return edges,n"
   ]
  },
  {
   "cell_type": "code",
   "execution_count": 3,
   "metadata": {},
   "outputs": [],
   "source": [
    "edges,n = read_graph('clustering1.txt')"
   ]
  },
  {
   "cell_type": "code",
   "execution_count": 4,
   "metadata": {
    "collapsed": true
   },
   "outputs": [],
   "source": [
    "class union_find(object):\n",
    "    def __init__(self,num_of_nodes):\n",
    "        self.num_of_nodes = num_of_nodes\n",
    "        self.parent = {i:i for i in range(self.num_of_nodes)}\n",
    "        self.rank = {i:0 for i in range(self.num_of_nodes)}\n",
    "    \n",
    "    def _find(self,x):\n",
    "        if self.parent[x] == x:\n",
    "            return self.parent[x]\n",
    "        else:\n",
    "            return self._find(self.parent[x])\n",
    "    \n",
    "    def find(self,x):\n",
    "        p = self._find(x)\n",
    "        self.parent[x] = p\n",
    "        return p\n",
    "    \n",
    "    def union(self,x,y):\n",
    "        s1 = self.find(x)\n",
    "        s2 = self.find(y)\n",
    "        if self.rank[s1] > self.rank[s2]:\n",
    "            self.parent[s2] = s1\n",
    "        elif self.rank[s1] == self.rank[s2]:\n",
    "            self.parent[s2] = s1\n",
    "            self.rank[s1] = self.rank[s2]+1\n",
    "        else:\n",
    "            self.parent[s1] = s2"
   ]
  },
  {
   "cell_type": "code",
   "execution_count": 5,
   "metadata": {
    "collapsed": true
   },
   "outputs": [],
   "source": [
    "def find_set(x,clusters):\n",
    "    for s in clusters:\n",
    "        if x in s:\n",
    "            return s"
   ]
  },
  {
   "cell_type": "code",
   "execution_count": 6,
   "metadata": {},
   "outputs": [],
   "source": [
    "def kruskal_clustering(edges,n,k):\n",
    "    sorted_edges = sorted(edges,key=lambda x:x[2])\n",
    "    uf = union_find(n)\n",
    "    clusters = set(frozenset([i]) for i in range(n))\n",
    "\n",
    "    \n",
    "    while len(clusters) > k:\n",
    "        u,v,c = sorted_edges.pop(0)\n",
    "        if uf.find(u) == uf.find(v):\n",
    "            continue\n",
    "        else:\n",
    "            uf.union(u,v)\n",
    "            ci = find_set(u,clusters)\n",
    "            cj = find_set(v,clusters)\n",
    "            clusters.remove(ci)\n",
    "            clusters.remove(cj)\n",
    "            clusters.add(ci|cj)\n",
    "    \n",
    "    spacing = inf\n",
    "    \n",
    "    for u,v,c in edges:\n",
    "        if uf.find(u) != uf.find(v):\n",
    "            if c < spacing:\n",
    "                spacing = c\n",
    "\n",
    "        \n",
    "    return clusters,spacing"
   ]
  },
  {
   "cell_type": "code",
   "execution_count": 7,
   "metadata": {},
   "outputs": [],
   "source": [
    "clusters,spacing = kruskal_clustering(edges,n,4)"
   ]
  },
  {
   "cell_type": "code",
   "execution_count": 8,
   "metadata": {},
   "outputs": [
    {
     "name": "stdout",
     "output_type": "stream",
     "text": [
      "106\n"
     ]
    }
   ],
   "source": [
    "print(spacing)"
   ]
  }
 ],
 "metadata": {
  "kernelspec": {
   "display_name": "Python 3",
   "language": "python",
   "name": "python3"
  },
  "language_info": {
   "codemirror_mode": {
    "name": "ipython",
    "version": 3
   },
   "file_extension": ".py",
   "mimetype": "text/x-python",
   "name": "python",
   "nbconvert_exporter": "python",
   "pygments_lexer": "ipython3",
   "version": "3.6.3"
  }
 },
 "nbformat": 4,
 "nbformat_minor": 2
}
