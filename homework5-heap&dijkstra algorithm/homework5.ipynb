{
 "cells": [
  {
   "cell_type": "code",
   "execution_count": 17,
   "metadata": {
    "collapsed": true
   },
   "outputs": [],
   "source": [
    "from queue import Queue"
   ]
  },
  {
   "cell_type": "code",
   "execution_count": 1,
   "metadata": {
    "collapsed": true
   },
   "outputs": [],
   "source": [
    "# a function to read graph from file\n",
    "def readgraphfromfile(filename):\n",
    "    with open('dijkstraData.txt') as f:\n",
    "        line = f.readline()\n",
    "        adjlist = []\n",
    "        while line != '':\n",
    "            praselist = [[int(e.split(',')[0])-1,int(e.split(',')[1])] for e in line.split()[1:]]\n",
    "            adjlist.append(praselist)\n",
    "            line = f.readline()\n",
    "                \n",
    "    return adjlist"
   ]
  },
  {
   "cell_type": "code",
   "execution_count": 2,
   "metadata": {},
   "outputs": [],
   "source": [
    "graph = readgraphfromfile('dijkstraData.txt')"
   ]
  },
  {
   "cell_type": "code",
   "execution_count": 3,
   "metadata": {},
   "outputs": [
    {
     "data": {
      "text/plain": [
       "200"
      ]
     },
     "execution_count": 3,
     "metadata": {},
     "output_type": "execute_result"
    }
   ],
   "source": [
    "len(graph)"
   ]
  },
  {
   "cell_type": "code",
   "execution_count": 18,
   "metadata": {
    "collapsed": true
   },
   "outputs": [],
   "source": [
    "# BFS to identify reachable nodes\n",
    "def BFS(graph,s=0):\n",
    "    explored = set([s])\n",
    "    q = Queue(maxsize = 1000)\n",
    "    q.put(s)\n",
    "    while not q.empty():\n",
    "        v = q.get()\n",
    "        for w,_ in graph[v]:\n",
    "            if w in explored:\n",
    "                continue\n",
    "            else:\n",
    "                explored.add(w)\n",
    "                q.put(w)\n",
    "    return explored"
   ]
  },
  {
   "cell_type": "code",
   "execution_count": 19,
   "metadata": {
    "collapsed": true
   },
   "outputs": [],
   "source": [
    "reachable = BFS(graph)"
   ]
  },
  {
   "cell_type": "code",
   "execution_count": 24,
   "metadata": {
    "collapsed": true
   },
   "outputs": [],
   "source": [
    "def dijkstra(graph,s=1,v=[7,37,59,82,99,115,133,165,188,197]):\n",
    "    s,v,n = s-1,list(map(lambda x:x-1,v)),len(graph)\n",
    "    A = [1000000] * n\n",
    "    B = [[]] * n\n",
    "    \n",
    "    X = set([s]) # keep track of processed vertices\n",
    "    A[s] = 0 # keep track of the shortest(len) to vertices \n",
    "    B[s].append(s) # keep track of the shortest path to vertices\n",
    "    V = BFS(graph,s) # extract the reachable vertices\n",
    "    \n",
    "    while X != V:\n",
    "        mincost = 1000000\n",
    "        v_star = None\n",
    "        w_star = None\n",
    "        for x in X:\n",
    "            for w,l in graph[x]:\n",
    "                if w not in V-X:\n",
    "                    continue\n",
    "                else:\n",
    "                    L = l+A[x]\n",
    "                    if L < mincost:\n",
    "                        mincost = L\n",
    "                        v_star = x\n",
    "                        w_star = w\n",
    "        X.add(w_star)\n",
    "        A[w_star] = mincost\n",
    "        B[w].append(B[v_star]+[v_star,w_star])\n",
    "        \n",
    "    for i in v:\n",
    "        print('The shortest path lenght form {} to {} is {}'.format(s+1,i+1,A[i]))\n",
    "    \n",
    "    return B,A"
   ]
  },
  {
   "cell_type": "code",
   "execution_count": 25,
   "metadata": {},
   "outputs": [
    {
     "name": "stdout",
     "output_type": "stream",
     "text": [
      "The shortest path lenght form 1 to 7 is 2599\n",
      "The shortest path lenght form 1 to 37 is 2610\n",
      "The shortest path lenght form 1 to 59 is 2947\n",
      "The shortest path lenght form 1 to 82 is 2052\n",
      "The shortest path lenght form 1 to 99 is 2367\n",
      "The shortest path lenght form 1 to 115 is 2399\n",
      "The shortest path lenght form 1 to 133 is 2029\n",
      "The shortest path lenght form 1 to 165 is 2442\n",
      "The shortest path lenght form 1 to 188 is 2505\n",
      "The shortest path lenght form 1 to 197 is 3068\n"
     ]
    }
   ],
   "source": [
    "paths,costs = dijkstra(graph)"
   ]
  }
 ],
 "metadata": {
  "kernelspec": {
   "display_name": "Python 3",
   "language": "python",
   "name": "python3"
  },
  "language_info": {
   "codemirror_mode": {
    "name": "ipython",
    "version": 3
   },
   "file_extension": ".py",
   "mimetype": "text/x-python",
   "name": "python",
   "nbconvert_exporter": "python",
   "pygments_lexer": "ipython3",
   "version": "3.6.3"
  }
 },
 "nbformat": 4,
 "nbformat_minor": 2
}
