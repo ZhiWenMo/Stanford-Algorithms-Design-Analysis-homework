{
 "cells": [
  {
   "cell_type": "code",
   "execution_count": 8,
   "metadata": {
    "collapsed": true
   },
   "outputs": [],
   "source": [
    "import heapq"
   ]
  },
  {
   "cell_type": "code",
   "execution_count": 9,
   "metadata": {
    "collapsed": true
   },
   "outputs": [],
   "source": [
    "heap_low, heap_high = [], []"
   ]
  },
  {
   "cell_type": "code",
   "execution_count": 10,
   "metadata": {
    "collapsed": true
   },
   "outputs": [],
   "source": [
    "def median_maintenance(x):\n",
    "    global heap_low, heap_high\n",
    "    if len(heap_low) == 0:\n",
    "        heapq.heappush(heap_low,-x)\n",
    "    else:\n",
    "        m = -heap_low[0]\n",
    "        if x > m:\n",
    "            heapq.heappush(heap_high,x)\n",
    "            if len(heap_high) > len(heap_low):\n",
    "                t = heapq.heappop(heap_high)\n",
    "                heapq.heappush(heap_low,-t)\n",
    "        else:\n",
    "            heapq.heappush(heap_low,-x)\n",
    "            if len(heap_low) - len(heap_high) > 1:\n",
    "                t = heapq.heappop(heap_low)\n",
    "                heapq.heappush(heap_high,-t)\n",
    "    return -heap_low[0]"
   ]
  },
  {
   "cell_type": "code",
   "execution_count": 11,
   "metadata": {},
   "outputs": [],
   "source": [
    "def main():\n",
    "    medians = []\n",
    "    with open('Median.txt') as f:\n",
    "        line = f.readline()\n",
    "        while line != '':\n",
    "            x = int(line)\n",
    "            median = median_maintenance(x)\n",
    "            medians.append(median)\n",
    "            line = f.readline()\n",
    "    out = sum(medians) % 10000\n",
    "    print(out)"
   ]
  },
  {
   "cell_type": "code",
   "execution_count": 12,
   "metadata": {},
   "outputs": [
    {
     "name": "stdout",
     "output_type": "stream",
     "text": [
      "1213\n"
     ]
    }
   ],
   "source": [
    "if __name__ == '__main__':\n",
    "    main()"
   ]
  }
 ],
 "metadata": {
  "kernelspec": {
   "display_name": "Python 3",
   "language": "python",
   "name": "python3"
  },
  "language_info": {
   "codemirror_mode": {
    "name": "ipython",
    "version": 3
   },
   "file_extension": ".py",
   "mimetype": "text/x-python",
   "name": "python",
   "nbconvert_exporter": "python",
   "pygments_lexer": "ipython3",
   "version": "3.6.3"
  }
 },
 "nbformat": 4,
 "nbformat_minor": 2
}
