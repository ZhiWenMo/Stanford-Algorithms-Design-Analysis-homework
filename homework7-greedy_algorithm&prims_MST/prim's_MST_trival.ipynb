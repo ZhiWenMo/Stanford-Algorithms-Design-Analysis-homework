{
 "cells": [
  {
   "cell_type": "code",
   "execution_count": 1,
   "metadata": {
    "collapsed": true
   },
   "outputs": [],
   "source": [
    "from math import inf\n",
    "from random import randint"
   ]
  },
  {
   "cell_type": "code",
   "execution_count": 2,
   "metadata": {},
   "outputs": [],
   "source": [
    "def read_graph(filepath='edges.txt'):\n",
    "    with open(filepath,'r') as f:\n",
    "        n,m = [int(i) for i in f.readline()[:-1].split()]\n",
    "        graph = [[] for _ in range(n)]\n",
    "        line = f.readline()\n",
    "        while line:\n",
    "            m,n,c = [int(i) for i in line[:-1].split()]\n",
    "            graph[m-1].append((n-1,c))\n",
    "            graph[n-1].append((m-1,c))\n",
    "            line = f.readline()\n",
    "    return graph"
   ]
  },
  {
   "cell_type": "code",
   "execution_count": 3,
   "metadata": {},
   "outputs": [],
   "source": [
    "graph = read_graph('edges.txt')"
   ]
  },
  {
   "cell_type": "code",
   "execution_count": 4,
   "metadata": {},
   "outputs": [
    {
     "data": {
      "text/plain": [
       "500"
      ]
     },
     "execution_count": 4,
     "metadata": {},
     "output_type": "execute_result"
    }
   ],
   "source": [
    "len(graph)"
   ]
  },
  {
   "cell_type": "code",
   "execution_count": 5,
   "metadata": {},
   "outputs": [],
   "source": [
    "def prims_MST(graph):\n",
    "    V = set([i for i in range(len(graph))])\n",
    "    X = set()\n",
    "\n",
    "    s = randint(0,len(V)-1)\n",
    "    X.add(s)\n",
    "    \n",
    "    MST = []\n",
    "    \n",
    "    \n",
    "    while X != V:\n",
    "        min_edge = (-1,-1,inf)\n",
    "        for u in X:\n",
    "            for (v,c) in graph[u]:\n",
    "                if (v not in X) and (c < min_edge[2]):\n",
    "                    min_edge = (u,v,c)\n",
    "                    \n",
    "        X.add(min_edge[1])\n",
    "        MST.append(min_edge)\n",
    "        \n",
    "    \n",
    "    return MST\n",
    "                    "
   ]
  },
  {
   "cell_type": "code",
   "execution_count": 6,
   "metadata": {},
   "outputs": [],
   "source": [
    "MST = prims_MST(graph)"
   ]
  },
  {
   "cell_type": "code",
   "execution_count": 7,
   "metadata": {},
   "outputs": [
    {
     "name": "stdout",
     "output_type": "stream",
     "text": [
      "-3612829\n"
     ]
    }
   ],
   "source": [
    "print(sum([c for _,_,c in MST]))"
   ]
  }
 ],
 "metadata": {
  "kernelspec": {
   "display_name": "Python 3",
   "language": "python",
   "name": "python3"
  },
  "language_info": {
   "codemirror_mode": {
    "name": "ipython",
    "version": 3
   },
   "file_extension": ".py",
   "mimetype": "text/x-python",
   "name": "python",
   "nbconvert_exporter": "python",
   "pygments_lexer": "ipython3",
   "version": "3.6.3"
  }
 },
 "nbformat": 4,
 "nbformat_minor": 2
}
