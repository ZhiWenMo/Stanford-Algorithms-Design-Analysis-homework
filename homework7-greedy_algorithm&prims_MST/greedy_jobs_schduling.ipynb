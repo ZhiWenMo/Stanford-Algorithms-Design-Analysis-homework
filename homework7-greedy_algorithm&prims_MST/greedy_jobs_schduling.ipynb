{
 "cells": [
  {
   "cell_type": "code",
   "execution_count": 1,
   "metadata": {
    "collapsed": true
   },
   "outputs": [],
   "source": [
    "def read_data(filepath='jobs.txt'):\n",
    "    with open(filepath,'r') as f:\n",
    "        data = []\n",
    "        line = f.readline()\n",
    "        while line:\n",
    "            pair_list = [int(e) for e in line[:-1].split()]\n",
    "            data.append(pair_list)\n",
    "            line = f.readline()\n",
    "    return data"
   ]
  },
  {
   "cell_type": "code",
   "execution_count": 2,
   "metadata": {
    "collapsed": true
   },
   "outputs": [],
   "source": [
    "data = read_data('jobs.txt')"
   ]
  },
  {
   "cell_type": "code",
   "execution_count": 3,
   "metadata": {
    "collapsed": true
   },
   "outputs": [],
   "source": [
    "jobs = data[1:]"
   ]
  },
  {
   "cell_type": "code",
   "execution_count": 4,
   "metadata": {
    "collapsed": true
   },
   "outputs": [],
   "source": [
    "def weighted_sum(jobs):\n",
    "    ct = 0\n",
    "    sums_ = 0\n",
    "    for w,l in jobs:\n",
    "        ct += l\n",
    "        sums_ += w*ct\n",
    "    return sums_"
   ]
  },
  {
   "cell_type": "markdown",
   "metadata": {},
   "source": [
    "## Question1 weight-length difference sort by desc"
   ]
  },
  {
   "cell_type": "code",
   "execution_count": 5,
   "metadata": {},
   "outputs": [],
   "source": [
    "def difference(jobs):\n",
    "    jobs.sort(key=lambda x:(x[0]-x[1],x[0]),reverse=True)\n",
    "    \n",
    "    return weighted_sum(jobs)"
   ]
  },
  {
   "cell_type": "code",
   "execution_count": 6,
   "metadata": {},
   "outputs": [
    {
     "name": "stdout",
     "output_type": "stream",
     "text": [
      "69119377652\n"
     ]
    }
   ],
   "source": [
    "print(difference(jobs))"
   ]
  },
  {
   "cell_type": "markdown",
   "metadata": {},
   "source": [
    "## Question2 weigth/length ratio sort by desc"
   ]
  },
  {
   "cell_type": "code",
   "execution_count": 7,
   "metadata": {
    "collapsed": true
   },
   "outputs": [],
   "source": [
    "def ratio(jobs):\n",
    "    jobs.sort(key=lambda x:x[0]/x[1],reverse=True)\n",
    "    return weighted_sum(jobs)"
   ]
  },
  {
   "cell_type": "code",
   "execution_count": 8,
   "metadata": {},
   "outputs": [
    {
     "name": "stdout",
     "output_type": "stream",
     "text": [
      "67311454237\n"
     ]
    }
   ],
   "source": [
    "print(ratio(jobs))"
   ]
  }
 ],
 "metadata": {
  "kernelspec": {
   "display_name": "Python 3",
   "language": "python",
   "name": "python3"
  },
  "language_info": {
   "codemirror_mode": {
    "name": "ipython",
    "version": 3
   },
   "file_extension": ".py",
   "mimetype": "text/x-python",
   "name": "python",
   "nbconvert_exporter": "python",
   "pygments_lexer": "ipython3",
   "version": "3.6.3"
  }
 },
 "nbformat": 4,
 "nbformat_minor": 2
}
