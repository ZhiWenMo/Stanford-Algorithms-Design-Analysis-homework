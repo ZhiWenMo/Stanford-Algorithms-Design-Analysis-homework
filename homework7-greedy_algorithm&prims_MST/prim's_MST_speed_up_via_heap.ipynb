{
 "cells": [
  {
   "cell_type": "code",
   "execution_count": 1,
   "metadata": {
    "collapsed": true
   },
   "outputs": [],
   "source": [
    "from math import inf\n",
    "from random import randint"
   ]
  },
  {
   "cell_type": "code",
   "execution_count": 2,
   "metadata": {
    "collapsed": true
   },
   "outputs": [],
   "source": [
    "class min_heap(object):\n",
    "    def __init__(self,array = [],key = lambda x:x[1]):\n",
    "        self.array = array\n",
    "        self.heap = []\n",
    "        self.key = key\n",
    "        self.index_finder={}\n",
    "        \n",
    "        for i in array:\n",
    "            self.insert(i)\n",
    "        \n",
    "    def _bubble_up(self,heap,index):\n",
    "        parent_id = (index-1) // 2\n",
    "        if index == 0 or self.key(self.heap[index]) >= self.key(self.heap[parent_id]):\n",
    "            self.index_finder[self.heap[index][0]] = index\n",
    "            return\n",
    "        else:\n",
    "            self.heap[index], self.heap[parent_id] = self.heap[parent_id], self.heap[index]\n",
    "            self.index_finder[self.heap[index][0]] = index\n",
    "            self.index_finder[self.heap[parent_id][0]] = parent_id\n",
    "            self._bubble_up(self.heap,parent_id)\n",
    "    \n",
    "    def _bubble_down(self,heap,index):\n",
    "        try:\n",
    "            child_id = self.heap.index(min(self.heap[index*2+1],self.heap[index*2+2],key=self.key))\n",
    "        except:\n",
    "            if index*2+2 == len(self.heap):\n",
    "                child_id = len(self.heap) - 1\n",
    "            else:\n",
    "                return\n",
    "        if self.key(self.heap[index]) <= self.key(self.heap[child_id]):\n",
    "            self.index_finder[self.heap[index][0]] = index\n",
    "            return\n",
    "        else:\n",
    "            self.heap[index], self.heap[child_id] = self.heap[child_id], self.heap[index]\n",
    "            self.index_finder[self.heap[index][0]] = index\n",
    "            self.index_finder[self.heap[child_id][0]] = child_id\n",
    "            self._bubble_down(self.heap,child_id)\n",
    "        \n",
    "    def insert(self,element):\n",
    "        self.heap.append(element)\n",
    "        self._bubble_up(self.heap,len(self.heap)-1)\n",
    "        \n",
    "    \n",
    "    def get(self,index=0):\n",
    "        self.heap[index], self.heap[-1] = self.heap[-1], self.heap[index]\n",
    "        self.index_finder[self.heap[index][0]] = index\n",
    "        element = self.heap.pop()\n",
    "        self._bubble_down(self.heap,index)\n",
    "        return element\n",
    "    \n",
    "    def delete(self,v):\n",
    "        index = self.index_finder[v]\n",
    "        return self.get(index)\n",
    "        "
   ]
  },
  {
   "cell_type": "code",
   "execution_count": 3,
   "metadata": {
    "collapsed": true
   },
   "outputs": [],
   "source": [
    "def read_graph(filepath='edges.txt'):\n",
    "    with open(filepath,'r') as f:\n",
    "        n,m = [int(i) for i in f.readline()[:-1].split()]\n",
    "        graph = [[] for _ in range(n)]\n",
    "        line = f.readline()\n",
    "        while line:\n",
    "            m,n,c = [int(i) for i in line[:-1].split()]\n",
    "            graph[m-1].append([n-1,c])\n",
    "            graph[n-1].append([m-1,c])\n",
    "            line = f.readline()\n",
    "    return graph"
   ]
  },
  {
   "cell_type": "code",
   "execution_count": 4,
   "metadata": {
    "collapsed": true
   },
   "outputs": [],
   "source": [
    "graph = read_graph('edges.txt')"
   ]
  },
  {
   "cell_type": "code",
   "execution_count": 5,
   "metadata": {
    "collapsed": true
   },
   "outputs": [],
   "source": [
    "def prims_MST(graph):\n",
    "    V = set([i for i in range(len(graph))])\n",
    "    X = set()\n",
    "\n",
    "    s = randint(0,len(V)-1)\n",
    "    X.add(s)\n",
    "    \n",
    "    MST = []\n",
    "    \n",
    "    init_list = [[i,inf] for i in range(len(V))]\n",
    "    for v,c in graph[s]:\n",
    "        init_list[v] = [v,c]\n",
    "    init_list.pop(s)\n",
    "    \n",
    "    \n",
    "    mh = min_heap(init_list)\n",
    "    \n",
    "    \n",
    "    while X != V:\n",
    "        v,c = mh.get()\n",
    "        MST.append((v,c))\n",
    "        X.add(v)\n",
    "        for w,c_vw in graph[v]:\n",
    "            if w not in X:\n",
    "                w_,c_ = mh.delete(w)\n",
    "                new_c_ = min(c_,c_vw)\n",
    "                mh.insert([w_,new_c_])\n",
    "\n",
    "    return MST\n",
    "                    "
   ]
  },
  {
   "cell_type": "code",
   "execution_count": 6,
   "metadata": {},
   "outputs": [],
   "source": [
    "MST = prims_MST(graph)"
   ]
  },
  {
   "cell_type": "code",
   "execution_count": 7,
   "metadata": {},
   "outputs": [
    {
     "name": "stdout",
     "output_type": "stream",
     "text": [
      "-3612829\n"
     ]
    }
   ],
   "source": [
    "print(sum([c for _,c in MST]))"
   ]
  }
 ],
 "metadata": {
  "kernelspec": {
   "display_name": "Python 3",
   "language": "python",
   "name": "python3"
  },
  "language_info": {
   "codemirror_mode": {
    "name": "ipython",
    "version": 3
   },
   "file_extension": ".py",
   "mimetype": "text/x-python",
   "name": "python",
   "nbconvert_exporter": "python",
   "pygments_lexer": "ipython3",
   "version": "3.6.3"
  }
 },
 "nbformat": 4,
 "nbformat_minor": 2
}
