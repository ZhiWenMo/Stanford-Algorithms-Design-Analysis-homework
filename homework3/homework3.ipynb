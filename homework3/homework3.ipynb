{
 "cells": [
  {
   "cell_type": "code",
   "execution_count": 1,
   "metadata": {
    "collapsed": true
   },
   "outputs": [],
   "source": [
    "import random"
   ]
  },
  {
   "cell_type": "code",
   "execution_count": 2,
   "metadata": {
    "collapsed": true
   },
   "outputs": [],
   "source": [
    "file_name='kargerMinCut.txt'"
   ]
  },
  {
   "cell_type": "code",
   "execution_count": 3,
   "metadata": {
    "collapsed": true
   },
   "outputs": [],
   "source": [
    "def load_graph(file_name):\n",
    "    with open('kargerMinCut.txt','r+') as file:\n",
    "        graph={}\n",
    "        total_edges=0\n",
    "        for line in file:\n",
    "            line_list=[int(v) for v in line.split('\\t')[:-1]]\n",
    "            graph[line_list[0]]=line_list[1:]\n",
    "            total_edges+=len(line_list)\n",
    "    return graph"
   ]
  },
  {
   "cell_type": "code",
   "execution_count": 5,
   "metadata": {
    "collapsed": true
   },
   "outputs": [],
   "source": [
    "def min_cut(graph):\n",
    "    while len(graph)>2:\n",
    "        v1,v2=choose_random_edge(graph)\n",
    "        graph[v1].extend(graph[v2])\n",
    "        for neighbor in graph[v2]:\n",
    "            graph[neighbor].remove(v2)\n",
    "            graph[neighbor].append(v1)\n",
    "        graph[v1]=list(filter(lambda x:x!=v1,graph[v1]))\n",
    "        graph.pop(v2)\n",
    "    for neighbor in graph.values():\n",
    "        return len(neighbor)"
   ]
  },
  {
   "cell_type": "code",
   "execution_count": 6,
   "metadata": {
    "collapsed": true
   },
   "outputs": [],
   "source": [
    "def choose_random_edge(graph):\n",
    "    total_edges=0\n",
    "    for neighbor in graph.values():\n",
    "        total_edges+=len(neighbor)\n",
    "    rand_edge=random.randint(0,total_edges-1)\n",
    "    for vertex,neighbor in graph.items():\n",
    "        if rand_edge>=len(neighbor):\n",
    "            rand_edge-=len(neighbor)\n",
    "        else:\n",
    "            from_vertex=vertex\n",
    "            to_vertex=neighbor[rand_edge]\n",
    "            return from_vertex,to_vertex"
   ]
  },
  {
   "cell_type": "code",
   "execution_count": 7,
   "metadata": {},
   "outputs": [
    {
     "name": "stdout",
     "output_type": "stream",
     "text": [
      "17\n"
     ]
    }
   ],
   "source": [
    "mc=999999\n",
    "for i in range(100):\n",
    "    graph=load_graph(file_name)\n",
    "    if min_cut(graph)<mc:\n",
    "        mc=min_cut(graph)\n",
    "print(mc)"
   ]
  }
 ],
 "metadata": {
  "kernelspec": {
   "display_name": "Python 3",
   "language": "python",
   "name": "python3"
  },
  "language_info": {
   "codemirror_mode": {
    "name": "ipython",
    "version": 3
   },
   "file_extension": ".py",
   "mimetype": "text/x-python",
   "name": "python",
   "nbconvert_exporter": "python",
   "pygments_lexer": "ipython3",
   "version": "3.6.3"
  }
 },
 "nbformat": 4,
 "nbformat_minor": 2
}
