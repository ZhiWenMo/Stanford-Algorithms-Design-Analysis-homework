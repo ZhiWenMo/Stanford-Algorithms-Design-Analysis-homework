{
 "cells": [
  {
   "cell_type": "code",
   "execution_count": 1,
   "metadata": {
    "collapsed": true
   },
   "outputs": [],
   "source": [
    "from queue import Queue"
   ]
  },
  {
   "cell_type": "code",
   "execution_count": 2,
   "metadata": {
    "collapsed": true
   },
   "outputs": [],
   "source": [
    "# a function to read graph from file\n",
    "def readgraphfromfile(filename):\n",
    "    with open('dijkstraData.txt') as f:\n",
    "        line = f.readline()\n",
    "        adjlist = []\n",
    "        while line != '':\n",
    "            praselist = [[int(e.split(',')[0])-1,int(e.split(',')[1])] for e in line.split()[1:]]\n",
    "            adjlist.append(praselist)\n",
    "            line = f.readline()\n",
    "                \n",
    "    return adjlist"
   ]
  },
  {
   "cell_type": "code",
   "execution_count": 3,
   "metadata": {
    "collapsed": true
   },
   "outputs": [],
   "source": [
    "graph = readgraphfromfile('dijkstraData.txt')"
   ]
  },
  {
   "cell_type": "code",
   "execution_count": 4,
   "metadata": {},
   "outputs": [
    {
     "data": {
      "text/plain": [
       "200"
      ]
     },
     "execution_count": 4,
     "metadata": {},
     "output_type": "execute_result"
    }
   ],
   "source": [
    "len(graph)"
   ]
  },
  {
   "cell_type": "code",
   "execution_count": 5,
   "metadata": {
    "collapsed": true
   },
   "outputs": [],
   "source": [
    "# BFS to identify reachable nodes\n",
    "def BFS(graph,s=0):\n",
    "    explored = set([s])\n",
    "    q = Queue(maxsize = 1000)\n",
    "    q.put(s)\n",
    "    while not q.empty():\n",
    "        v = q.get()\n",
    "        for w,_ in graph[v]:\n",
    "            if w in explored:\n",
    "                continue\n",
    "            else:\n",
    "                explored.add(w)\n",
    "                q.put(w)\n",
    "    return explored"
   ]
  },
  {
   "cell_type": "code",
   "execution_count": 6,
   "metadata": {
    "collapsed": true
   },
   "outputs": [],
   "source": [
    "reachable = BFS(graph)"
   ]
  },
  {
   "cell_type": "code",
   "execution_count": 35,
   "metadata": {},
   "outputs": [],
   "source": [
    "class min_heap(object):\n",
    "    def __init__(self,array = [],key = lambda x:x[1]):\n",
    "        self.array = array\n",
    "        self.heap = []\n",
    "        self.key = key\n",
    "        self.index_finder={}\n",
    "        \n",
    "        for i in array:\n",
    "            self.insert(i)\n",
    "        \n",
    "    def _bubble_up(self,heap,index):\n",
    "        parent_id = (index-1) // 2\n",
    "        if index == 0 or self.key(self.heap[index]) >= self.key(self.heap[parent_id]):\n",
    "            self.index_finder[self.heap[index][0]] = index\n",
    "            return\n",
    "        else:\n",
    "            self.heap[index], self.heap[parent_id] = self.heap[parent_id], self.heap[index]\n",
    "            self.index_finder[self.heap[index][0]] = index\n",
    "            self.index_finder[self.heap[parent_id][0]] = parent_id\n",
    "            self._bubble_up(self.heap,parent_id)\n",
    "    \n",
    "    def _bubble_down(self,heap,index):\n",
    "        try:\n",
    "            child_id = self.heap.index(min(self.heap[index*2+1],self.heap[index*2+2],key=self.key))\n",
    "        except:\n",
    "            if index*2+2 == len(self.heap):\n",
    "                child_id = len(self.heap) - 1\n",
    "            else:\n",
    "                return\n",
    "        if self.key(self.heap[index]) <= self.key(self.heap[child_id]):\n",
    "            self.index_finder[self.heap[index][0]] = index\n",
    "            return\n",
    "        else:\n",
    "            self.heap[index], self.heap[child_id] = self.heap[child_id], self.heap[index]\n",
    "            self.index_finder[self.heap[index][0]] = index\n",
    "            self.index_finder[self.heap[child_id][0]] = child_id\n",
    "            self._bubble_down(self.heap,child_id)\n",
    "        \n",
    "    def insert(self,element):\n",
    "        self.heap.append(element)\n",
    "        self._bubble_up(self.heap,len(self.heap)-1)\n",
    "        \n",
    "    \n",
    "    def get(self,index=0):\n",
    "        self.heap[index], self.heap[-1] = self.heap[-1], self.heap[index]\n",
    "        self.index_finder[self.heap[index][0]] = index\n",
    "        element = self.heap.pop()\n",
    "        self._bubble_down(self.heap,index)\n",
    "        return element\n",
    "    \n",
    "    def delete(self,v):\n",
    "        index = self.index_finder[v]\n",
    "        return self.get(index)\n",
    "        "
   ]
  },
  {
   "cell_type": "code",
   "execution_count": 38,
   "metadata": {},
   "outputs": [],
   "source": [
    "def dijkstra(graph,s=1,v=[7,37,59,82,99,115,133,165,188,197]):\n",
    "    s,v,n = s-1,list(map(lambda x:x-1,v)),len(graph)\n",
    "    A = [1000000] * n\n",
    "    \n",
    "    \n",
    "    X = set([s]) # keep track of processed vertices\n",
    "    A[s] = 0 # keep track of the shortest(len) to vertices \n",
    "    \n",
    "    V = BFS(graph,s) # extract the reachable vertices\n",
    "    \n",
    "    \n",
    "    \n",
    "    init_list = [[i,1000000] for i in range(n)] \n",
    "    \n",
    "    for x in X:\n",
    "        for w,l in graph[x]:\n",
    "            if w not in V-X:\n",
    "                continue\n",
    "            else:\n",
    "                init_list[w]=[w,l]\n",
    "    init_list.pop(0)\n",
    "    \n",
    "    mheap = min_heap(init_list) # # initialize the heap V-X\n",
    "    \n",
    "    while X != V:\n",
    "        w,l = mheap.get()\n",
    "        X.add(w)\n",
    "        for v_,l_wv in graph[w]:\n",
    "            if v_ in V-X:\n",
    "                v_, old_l = mheap.delete(v_)\n",
    "                new_l = min(old_l,l+l_wv)\n",
    "                mheap.insert([v_,new_l])\n",
    "            \n",
    "        A[w] = l\n",
    "        \n",
    "        \n",
    "    for i in v:\n",
    "        print('The shortest path lenght form {} to {} is {}'.format(s+1,i+1,A[i]))\n",
    "    \n",
    "    return A"
   ]
  },
  {
   "cell_type": "code",
   "execution_count": 39,
   "metadata": {},
   "outputs": [
    {
     "name": "stdout",
     "output_type": "stream",
     "text": [
      "The shortest path lenght form 1 to 7 is 2599\n",
      "The shortest path lenght form 1 to 37 is 2610\n",
      "The shortest path lenght form 1 to 59 is 2947\n",
      "The shortest path lenght form 1 to 82 is 2052\n",
      "The shortest path lenght form 1 to 99 is 2367\n",
      "The shortest path lenght form 1 to 115 is 2399\n",
      "The shortest path lenght form 1 to 133 is 2029\n",
      "The shortest path lenght form 1 to 165 is 2442\n",
      "The shortest path lenght form 1 to 188 is 2505\n",
      "The shortest path lenght form 1 to 197 is 3068\n"
     ]
    }
   ],
   "source": [
    "costs = dijkstra(graph)"
   ]
  }
 ],
 "metadata": {
  "kernelspec": {
   "display_name": "Python 3",
   "language": "python",
   "name": "python3"
  },
  "language_info": {
   "codemirror_mode": {
    "name": "ipython",
    "version": 3
   },
   "file_extension": ".py",
   "mimetype": "text/x-python",
   "name": "python",
   "nbconvert_exporter": "python",
   "pygments_lexer": "ipython3",
   "version": "3.6.3"
  }
 },
 "nbformat": 4,
 "nbformat_minor": 2
}
