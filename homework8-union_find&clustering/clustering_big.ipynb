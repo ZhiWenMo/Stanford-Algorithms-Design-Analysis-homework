{
 "cells": [
  {
   "cell_type": "code",
   "execution_count": 1,
   "metadata": {
    "collapsed": true
   },
   "outputs": [],
   "source": [
    "def read_nodes(filepath):\n",
    "    with open('clustering_big.txt','r') as f:\n",
    "        n,b = [int(i) for i in f.readline()[:-1].split()]\n",
    "        nodes = []\n",
    "        line = f.readline()\n",
    "        while line:\n",
    "            nodes.append(''.join([b for b in line[:-1].split()]))\n",
    "            line = f.readline()\n",
    "    return nodes,n,b"
   ]
  },
  {
   "cell_type": "code",
   "execution_count": 2,
   "metadata": {
    "collapsed": true
   },
   "outputs": [],
   "source": [
    "nodes,n,b = read_nodes('clustering_big.txt')"
   ]
  },
  {
   "cell_type": "code",
   "execution_count": 3,
   "metadata": {
    "collapsed": true
   },
   "outputs": [],
   "source": [
    "class union_find(object):\n",
    "    def __init__(self,num_of_nodes):\n",
    "        self.num_of_nodes = num_of_nodes\n",
    "        self.parent = {i:i for i in range(self.num_of_nodes)}\n",
    "        self.rank = {i:0 for i in range(self.num_of_nodes)}\n",
    "    \n",
    "    def _find(self,x):\n",
    "        if self.parent[x] == x:\n",
    "            return self.parent[x]\n",
    "        else:\n",
    "            return self._find(self.parent[x])\n",
    "    \n",
    "    def find(self,x):\n",
    "        p = self._find(x)\n",
    "        self.parent[x] = p\n",
    "        return p\n",
    "    \n",
    "    def union(self,x,y):\n",
    "        s1 = self.find(x)\n",
    "        s2 = self.find(y)\n",
    "        if self.rank[s1] > self.rank[s2]:\n",
    "            self.parent[s2] = s1\n",
    "        else:\n",
    "            self.parent[s1] = s2\n",
    "            if self.rank[s1] == self.rank[s2]:\n",
    "                self.rank[s2] = self.rank[s1]+1"
   ]
  },
  {
   "cell_type": "code",
   "execution_count": 4,
   "metadata": {
    "collapsed": true
   },
   "outputs": [],
   "source": [
    "def possible_candidate(node_bit):\n",
    "    node_bit_list = list(node_bit)\n",
    "    candidate_set = set()\n",
    "    \n",
    "    for i in range(len(node_bit)):\n",
    "        for j in range(len(node_bit)):\n",
    "            new_bit_list = node_bit_list[:]\n",
    "            if i != j:\n",
    "                new_bit_list[i] = ('1' if node_bit_list[i] == '0' else '0')\n",
    "                new_bit_list[j] = ('1' if node_bit_list[j] == '0' else '0')\n",
    "            else:\n",
    "                new_bit_list[i] = ('1' if node_bit_list[i] == '0' else '0')\n",
    "            candidate_set.add(''.join(new_bit_list))\n",
    "    return candidate_set"
   ]
  },
  {
   "cell_type": "code",
   "execution_count": 5,
   "metadata": {
    "collapsed": true
   },
   "outputs": [],
   "source": [
    "def clustering_big(nodes,n,b):\n",
    "    cluster_num = n\n",
    "    bit_length = b\n",
    "    all_nodes = set(nodes)\n",
    "    \n",
    "    bit_to_node = {bit:n for n,bit in enumerate(nodes)}\n",
    "    uf = union_find(n)\n",
    "    \n",
    "    for node in all_nodes:\n",
    "        pc = possible_candidate(node)\n",
    "        candidates = pc & all_nodes\n",
    "        for to_merge in candidates:\n",
    "            if uf.find(bit_to_node[node]) != uf.find(bit_to_node[to_merge]):\n",
    "                uf.union(bit_to_node[node],bit_to_node[to_merge])\n",
    "                cluster_num -= 1\n",
    "                \n",
    "    return cluster_num"
   ]
  },
  {
   "cell_type": "code",
   "execution_count": 6,
   "metadata": {},
   "outputs": [
    {
     "name": "stdout",
     "output_type": "stream",
     "text": [
      "7330\n"
     ]
    }
   ],
   "source": [
    "print(clustering_big(nodes,n,b))"
   ]
  }
 ],
 "metadata": {
  "kernelspec": {
   "display_name": "Python 3",
   "language": "python",
   "name": "python3"
  },
  "language_info": {
   "codemirror_mode": {
    "name": "ipython",
    "version": 3
   },
   "file_extension": ".py",
   "mimetype": "text/x-python",
   "name": "python",
   "nbconvert_exporter": "python",
   "pygments_lexer": "ipython3",
   "version": "3.6.3"
  }
 },
 "nbformat": 4,
 "nbformat_minor": 2
}
