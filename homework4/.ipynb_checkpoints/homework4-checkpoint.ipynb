{
 "cells": [
  {
   "cell_type": "code",
   "execution_count": 1,
   "metadata": {
    "collapsed": true
   },
   "outputs": [],
   "source": [
    "import sys\n",
    "import threading"
   ]
  },
  {
   "cell_type": "code",
   "execution_count": 2,
   "metadata": {
    "collapsed": true
   },
   "outputs": [],
   "source": [
    "def readgraphfromfile(filename='SCC.txt'):\n",
    "    with open(filename) as f:\n",
    "        line = f.readline()\n",
    "        adjlist=[]\n",
    "        rev_adjlist=[]\n",
    "        while line != '':\n",
    "            from_v,to_v = list(map(lambda x:int(x),line.split()))\n",
    "            max_v_num = max(from_v,to_v)\n",
    "            \n",
    "            while len(adjlist) < max_v_num:\n",
    "                adjlist.append([])\n",
    "            while len(rev_adjlist) < max_v_num:\n",
    "                rev_adjlist.append([])\n",
    "                \n",
    "            adjlist[from_v-1].append(to_v-1)\n",
    "            rev_adjlist[to_v-1].append(from_v-1)\n",
    "            \n",
    "            line = f.readline()\n",
    "            \n",
    "    return adjlist,rev_adjlist"
   ]
  },
  {
   "cell_type": "code",
   "execution_count": 3,
   "metadata": {
    "collapsed": true
   },
   "outputs": [],
   "source": [
    "t=0\n",
    "s=None\n",
    "explored=set()\n",
    "leader={}\n",
    "f={}"
   ]
  },
  {
   "cell_type": "code",
   "execution_count": 4,
   "metadata": {
    "collapsed": true
   },
   "outputs": [],
   "source": [
    "def DFS_loop_p1(graph):\n",
    "    global t,s,explored,leader,f\n",
    "    \n",
    "    n = len(graph)\n",
    "    t,s,explored,leader,f=0,None,set(),{},[None]*n\n",
    "    \n",
    "    \n",
    "    for i in reversed(range(n)):\n",
    "        if i not in explored:\n",
    "            s=i\n",
    "            DFS_p1(graph,i)"
   ]
  },
  {
   "cell_type": "code",
   "execution_count": 5,
   "metadata": {
    "collapsed": true
   },
   "outputs": [],
   "source": [
    "def DFS_p1(graph,node):\n",
    "    global t,explored,leader,f\n",
    "    \n",
    "    explored.add(node)\n",
    "    leader[node] = s\n",
    "    for m in graph[node]:\n",
    "        if m not in explored:\n",
    "            DFS_p1(graph,m)\n",
    "    f[t] = node\n",
    "    t += 1"
   ]
  },
  {
   "cell_type": "code",
   "execution_count": 6,
   "metadata": {
    "collapsed": true
   },
   "outputs": [],
   "source": [
    "def DFS_loop_p2(graph):\n",
    "    global s,explored,leader\n",
    "    \n",
    "    n = len(graph)\n",
    "    s,explored,leader = None,set(),{}\n",
    "    \n",
    "    \n",
    "    for i in reversed(range(n)):\n",
    "        if f[i] not in explored:\n",
    "            s=f[i]\n",
    "            DFS_p2(graph,f[i])"
   ]
  },
  {
   "cell_type": "code",
   "execution_count": 7,
   "metadata": {
    "collapsed": true
   },
   "outputs": [],
   "source": [
    "def DFS_p2(graph,node):\n",
    "    global t,explored,leader\n",
    "    \n",
    "    explored.add(node)\n",
    "    leader[node] = s\n",
    "    for m in graph[node]:\n",
    "        if m not in explored:\n",
    "            DFS_p2(graph,m)"
   ]
  },
  {
   "cell_type": "code",
   "execution_count": 11,
   "metadata": {
    "collapsed": true
   },
   "outputs": [],
   "source": [
    "def top5SCCs(d=leader):\n",
    "    scc={}\n",
    "    for key,value in d.items():\n",
    "        if value not in scc.keys():\n",
    "            scc[value] = []\n",
    "            scc[value].append(key)\n",
    "        else:\n",
    "            scc[value].append(key)\n",
    "    \n",
    "    res = sorted(scc.items(),key=lambda x:len(x[1]))[::-1][:5]\n",
    "    \n",
    "    return scc,res"
   ]
  },
  {
   "cell_type": "code",
   "execution_count": 14,
   "metadata": {},
   "outputs": [],
   "source": [
    "def main():\n",
    "    graph, rev_graph = readgraphfromfile('SCC.txt')\n",
    "    DFS_loop_p1(rev_graph)\n",
    "    DFS_loop_p2(graph)\n",
    "    scc, res = top5SCCs(leader)\n",
    "    for i in res:\n",
    "        print('leader:',i[0],'length:',len(i[1]))"
   ]
  },
  {
   "cell_type": "code",
   "execution_count": 15,
   "metadata": {},
   "outputs": [
    {
     "name": "stdout",
     "output_type": "stream",
     "text": [
      "leader: 67967 length: 434821\n",
      "leader: 413830 length: 968\n",
      "leader: 442456 length: 459\n",
      "leader: 33603 length: 313\n",
      "leader: 677095 length: 211\n"
     ]
    }
   ],
   "source": [
    "if __name__ == '__main__':\n",
    "    threading.stack_size(67108864)\n",
    "    sys.setrecursionlimit(2 ** 20)\n",
    "    thread = threading.Thread(target = main)\n",
    "    thread.start()"
   ]
  }
 ],
 "metadata": {
  "kernelspec": {
   "display_name": "Python 3",
   "language": "python",
   "name": "python3"
  },
  "language_info": {
   "codemirror_mode": {
    "name": "ipython",
    "version": 3
   },
   "file_extension": ".py",
   "mimetype": "text/x-python",
   "name": "python",
   "nbconvert_exporter": "python",
   "pygments_lexer": "ipython3",
   "version": "3.6.3"
  }
 },
 "nbformat": 4,
 "nbformat_minor": 2
}
