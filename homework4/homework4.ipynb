{
 "cells": [
  {
   "cell_type": "code",
   "execution_count": null,
   "metadata": {
    "collapsed": true
   },
   "outputs": [],
   "source": [
    "with open('SCC.txt','r+') as file:\n",
    "    text = file.readlines()"
   ]
  },
  {
   "cell_type": "code",
   "execution_count": null,
   "metadata": {
    "collapsed": true
   },
   "outputs": [],
   "source": [
    "#construct the graph\n",
    "\n",
    "G = {}\n",
    "for line in text:\n",
    "    tail,head = list(map(lambda x:int(x),line.split()))\n",
    "    if tail not in G.keys():\n",
    "        G[tail]={'in':set(),'out':set()}\n",
    "    if head not in G.keys():\n",
    "        G[head]={'in':set(),'out':set()}\n",
    "    G[tail]['out'].add(head)\n",
    "    G[head]['in'].add(tail)\n"
   ]
  },
  {
   "cell_type": "code",
   "execution_count": null,
   "metadata": {
    "collapsed": true
   },
   "outputs": [],
   "source": [
    "#reverse the graph\n",
    "\n",
    "rev_G = {}\n",
    "for key,value in G.items():\n",
    "    rev_G[key] = {'in':value['out'],'out':value['in']}"
   ]
  },
  {
   "cell_type": "code",
   "execution_count": null,
   "metadata": {
    "collapsed": true
   },
   "outputs": [],
   "source": [
    "def DFS_loop(graph,reset_graph=True):\n",
    "    global t\n",
    "    t=0 # num. of node passed so far 1st pass\n",
    "    \n",
    "    global s\n",
    "    s=None # current source vertex 2nd pass\n",
    "    \n",
    "    global leader\n",
    "    leader={}\n",
    "    \n",
    "    global visited\n",
    "    visited=set()\n",
    "    \n",
    "    global rd_G\n",
    "    if reset_graph:\n",
    "        rd_G={}\n",
    "    \n",
    "    for i in range(len(graph.keys()),0,-1):\n",
    "        if i not in visited:\n",
    "            s=i\n",
    "            DFS(graph,i)    "
   ]
  },
  {
   "cell_type": "code",
   "execution_count": null,
   "metadata": {
    "collapsed": true
   },
   "outputs": [],
   "source": [
    "def DFS(graph,node):\n",
    "    global t,s,rd_G,leader,visited\n",
    "    visited.add(node)\n",
    "    leader[node] = s\n",
    "    for m in graph[node]['out']:\n",
    "        if m not in visited:\n",
    "            DFS(graph,m)\n",
    "    t+=1\n",
    "    rd_G[t]=G[node]"
   ]
  },
  {
   "cell_type": "code",
   "execution_count": null,
   "metadata": {},
   "outputs": [],
   "source": [
    "DFS_loop(rev_G)"
   ]
  },
  {
   "cell_type": "code",
   "execution_count": null,
   "metadata": {
    "collapsed": true
   },
   "outputs": [],
   "source": []
  }
 ],
 "metadata": {
  "kernelspec": {
   "display_name": "Python 3",
   "language": "python",
   "name": "python3"
  },
  "language_info": {
   "codemirror_mode": {
    "name": "ipython",
    "version": 3
   },
   "file_extension": ".py",
   "mimetype": "text/x-python",
   "name": "python",
   "nbconvert_exporter": "python",
   "pygments_lexer": "ipython3",
   "version": "3.6.3"
  }
 },
 "nbformat": 4,
 "nbformat_minor": 2
}
